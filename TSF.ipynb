{
 "metadata": {
  "language_info": {
   "codemirror_mode": {
    "name": "ipython",
    "version": 3
   },
   "file_extension": ".py",
   "mimetype": "text/x-python",
   "name": "python",
   "nbconvert_exporter": "python",
   "pygments_lexer": "ipython3",
   "version": "3.9.2"
  },
  "orig_nbformat": 2,
  "kernelspec": {
   "name": "python392jvsc74a57bd0e022740eaca62ab9b47264bee6f9dd11d1bbecff2e921062469ff175b22eb4a4",
   "display_name": "Python 3.9.2 64-bit"
  },
  "metadata": {
   "interpreter": {
    "hash": "e022740eaca62ab9b47264bee6f9dd11d1bbecff2e921062469ff175b22eb4a4"
   }
  }
 },
 "nbformat": 4,
 "nbformat_minor": 2,
 "cells": [
  {
   "cell_type": "code",
   "execution_count": null,
   "metadata": {},
   "outputs": [],
   "source": [
    "import pandas as pd\n",
    "import matplotlib.pyplot as plt\n",
    "import seaborn as sns\n",
    "import numpy as np\n",
    "import warnings\n",
    "warnings.filterwarnings(\"ignore\")"
   ]
  },
  {
   "cell_type": "code",
   "execution_count": null,
   "metadata": {},
   "outputs": [],
   "source": [
    "df = pd.read_csv('SampleSuperstore.csv')"
   ]
  },
  {
   "cell_type": "code",
   "execution_count": null,
   "metadata": {},
   "outputs": [],
   "source": [
    "df"
   ]
  },
  {
   "cell_type": "code",
   "execution_count": null,
   "metadata": {},
   "outputs": [],
   "source": []
  },
  {
   "source": [
    "#   **UNDERSTANDING THE DATA**"
   ],
   "cell_type": "markdown",
   "metadata": {}
  },
  {
   "cell_type": "code",
   "execution_count": null,
   "metadata": {},
   "outputs": [],
   "source": [
    "df.head()"
   ]
  },
  {
   "cell_type": "code",
   "execution_count": null,
   "metadata": {},
   "outputs": [],
   "source": [
    "df.tail()"
   ]
  },
  {
   "cell_type": "code",
   "execution_count": null,
   "metadata": {},
   "outputs": [],
   "source": [
    "df.shape"
   ]
  },
  {
   "cell_type": "code",
   "execution_count": null,
   "metadata": {},
   "outputs": [],
   "source": [
    "df.describe(include='all')"
   ]
  },
  {
   "cell_type": "code",
   "execution_count": null,
   "metadata": {},
   "outputs": [],
   "source": [
    "df.dtypes"
   ]
  },
  {
   "cell_type": "code",
   "execution_count": null,
   "metadata": {},
   "outputs": [],
   "source": [
    "df.columns"
   ]
  },
  {
   "cell_type": "code",
   "execution_count": null,
   "metadata": {},
   "outputs": [],
   "source": [
    "df.nunique()"
   ]
  },
  {
   "cell_type": "code",
   "execution_count": null,
   "metadata": {},
   "outputs": [],
   "source": []
  },
  {
   "source": [
    "#   **CLEANING THE DATA**"
   ],
   "cell_type": "markdown",
   "metadata": {}
  },
  {
   "cell_type": "code",
   "execution_count": null,
   "metadata": {},
   "outputs": [],
   "source": [
    "df.isnull().sum()"
   ]
  },
  {
   "source": [
    "         NO NULL VALUES FOUND\n",
    "   \n",
    "         DATA IS CLEAN"
   ],
   "cell_type": "markdown",
   "metadata": {}
  },
  {
   "source": [
    "### Making postal code as object"
   ],
   "cell_type": "markdown",
   "metadata": {}
  },
  {
   "cell_type": "code",
   "execution_count": null,
   "metadata": {},
   "outputs": [],
   "source": [
    "df1 = df\n",
    "df1['Postal Code'] = df1['Postal Code'].astype('object')"
   ]
  },
  {
   "cell_type": "code",
   "execution_count": null,
   "metadata": {},
   "outputs": [],
   "source": [
    "df1.dtypes"
   ]
  },
  {
   "cell_type": "code",
   "execution_count": null,
   "metadata": {},
   "outputs": [],
   "source": []
  },
  {
   "source": [
    "#   **ANALYSING THE DATA**"
   ],
   "cell_type": "markdown",
   "metadata": {}
  },
  {
   "cell_type": "code",
   "execution_count": null,
   "metadata": {},
   "outputs": [],
   "source": [
    "df1.corr()"
   ]
  },
  {
   "cell_type": "code",
   "execution_count": null,
   "metadata": {},
   "outputs": [],
   "source": []
  },
  {
   "source": [
    "##   HEATMAP"
   ],
   "cell_type": "markdown",
   "metadata": {}
  },
  {
   "cell_type": "code",
   "execution_count": null,
   "metadata": {},
   "outputs": [],
   "source": [
    "plt.figure(figsize=(7,6))\n",
    "sns.heatmap(df1.corr(),annot=True)"
   ]
  },
  {
   "source": [
    "##   PAIRPLOTS"
   ],
   "cell_type": "markdown",
   "metadata": {}
  },
  {
   "cell_type": "code",
   "execution_count": null,
   "metadata": {},
   "outputs": [],
   "source": [
    "sns.pairplot(data=df)"
   ]
  },
  {
   "source": [
    "#   Uni-Variate Analysis"
   ],
   "cell_type": "markdown",
   "metadata": {}
  },
  {
   "source": [
    "##  1. Ship Mode"
   ],
   "cell_type": "markdown",
   "metadata": {}
  },
  {
   "cell_type": "code",
   "execution_count": null,
   "metadata": {},
   "outputs": [],
   "source": [
    "plt.figure(figsize=(24,5))\n",
    "plt.subplot(1,2,1)\n",
    "plt.title(\"Countplot\")\n",
    "sns.countplot(df['Ship Mode'])\n",
    "plt.subplot(1,2,2)\n",
    "plt.title(\"Average Percentage Plot\")\n",
    "S = (df['Ship Mode'].value_counts()/len(df['Ship Mode'])*100).plot(kind='bar',color='g')\n",
    "plt.xlabel('Ship Mode')\n",
    "plt.xticks(rotation=0)\n",
    "plt.ylabel('percent')"
   ]
  },
  {
   "source": [
    "####    Conclusion:\n",
    "        same day having least count less than 10%\n",
    "        standard class having man Count with more than 50%"
   ],
   "cell_type": "markdown",
   "metadata": {}
  },
  {
   "source": [
    "##   2. Category"
   ],
   "cell_type": "markdown",
   "metadata": {}
  },
  {
   "cell_type": "code",
   "execution_count": null,
   "metadata": {},
   "outputs": [],
   "source": [
    "plt.figure(figsize=(24,5))\n",
    "plt.subplot(1,2,1)\n",
    "plt.title(\"Countplot\")\n",
    "sns.countplot(df['Category'])\n",
    "plt.subplot(1,2,2)\n",
    "plt.title(\"Average Percentage Plot\")\n",
    "S = (df['Category'].value_counts()/len(df['Category'])*100).plot(kind='bar',color='g')\n",
    "plt.xlabel('Category')\n",
    "plt.xticks(rotation=0)\n",
    "plt.ylabel('percent')"
   ]
  },
  {
   "source": [
    "####   Conclusion:\n",
    "       Least   Technology      10-20%\n",
    "       Most   office supplies  50-60%"
   ],
   "cell_type": "markdown",
   "metadata": {}
  },
  {
   "source": [
    "##  3. Sub-Category"
   ],
   "cell_type": "markdown",
   "metadata": {}
  },
  {
   "cell_type": "code",
   "execution_count": null,
   "metadata": {},
   "outputs": [],
   "source": [
    "\n",
    "plt.figure(figsize=(24,5))\n",
    "plt.subplot(1,2,1)\n",
    "plt.title(\"Countplot\")\n",
    "sns.countplot(df['Sub-Category'])\n",
    "plt.xticks(rotation=45)\n",
    "plt.subplot(1,2,2)\n",
    "plt.title(\"Average Percentage Plot\")\n",
    "S = (df['Sub-Category'].value_counts()/len(df['Sub-Category'])*100).plot(kind='bar',color='g')\n",
    "plt.xlabel('Sub-Category')\n",
    "plt.xticks(rotation=45)\n",
    "plt.ylabel('percent')"
   ]
  },
  {
   "source": [
    "####    Conclusion:\n",
    "    least   copiers, machine  0-2%%\n",
    "    most    binders            >14"
   ],
   "cell_type": "markdown",
   "metadata": {}
  },
  {
   "source": [
    "##  4. Segment"
   ],
   "cell_type": "markdown",
   "metadata": {}
  },
  {
   "cell_type": "code",
   "execution_count": null,
   "metadata": {},
   "outputs": [],
   "source": [
    "plt.figure(figsize=(24,5))\n",
    "plt.subplot(1,2,1)\n",
    "plt.title(\"Countplot\")\n",
    "sns.countplot(df['Segment'])\n",
    "plt.subplot(1,2,2)\n",
    "plt.title(\"Average Percentage Plot\")\n",
    "S = (df['Segment'].value_counts()/len(df['Segment'])*100).plot(kind='bar',color='g')\n",
    "plt.xlabel('Segment')\n",
    "plt.xticks(rotation=0)\n",
    "plt.ylabel('percent')"
   ]
  },
  {
   "source": [
    "####   Conclusion:\n",
    "        Least   Home Office     10-20\n",
    "        Most    Customer        >50%%\n"
   ],
   "cell_type": "markdown",
   "metadata": {}
  },
  {
   "cell_type": "code",
   "execution_count": null,
   "metadata": {},
   "outputs": [],
   "source": []
  },
  {
   "source": [
    "#   Bivariate Analysis"
   ],
   "cell_type": "markdown",
   "metadata": {}
  },
  {
   "source": [
    "##  With respect to 'Profit' & 'Sales' :\n",
    "###    1. Category :"
   ],
   "cell_type": "markdown",
   "metadata": {}
  },
  {
   "cell_type": "code",
   "execution_count": null,
   "metadata": {},
   "outputs": [],
   "source": [
    "df.groupby('Category')['Sales','Profit'].agg(['sum','mean'])"
   ]
  },
  {
   "cell_type": "code",
   "execution_count": null,
   "metadata": {},
   "outputs": [],
   "source": [
    "fig, (ax1,ax2) = plt.subplots(1,2,figsize=(14,14))\n",
    "\n",
    "df20 = df.groupby('Category')['Sales'].sum()\n",
    "labels = df20.index\n",
    "values = df20\n",
    "ax1.pie(values,labels = labels,autopct = '%.2f%%',explode=[0,0.25,0])\n",
    "ax1.title.set_text('Sales')\n",
    "\n",
    "df21 = df.groupby('Category')['Profit'].sum()\n",
    "labels = df21.index\n",
    "values = df21\n",
    "ax2.pie(df21,labels=df21.index,autopct = '%.2f%%',explode=[0.25,0,0])\n",
    "ax2.title.set_text('Profit')\n",
    "\n",
    "plt.legend(title = \"Category\",loc=4)\n",
    "#                                       OR\n",
    "#df.groupby('Category')['Sales','Profit'].mean().plot.pie(subplots=True,autopct='%0.2f%%',figsize=(15,10),explode=[0.25,0,0])"
   ]
  },
  {
   "source": [
    "####    Conclusion:\n",
    "\n",
    "    Sales :-\n",
    "        Least   Office Supplies     31.30%\n",
    "        Most    Technology          36.40%\n",
    "    Profit :-\n",
    "        Least   Furniture           6.44%\n",
    "        Most    Technology          50.79%"
   ],
   "cell_type": "markdown",
   "metadata": {}
  },
  {
   "source": [
    "##  2. Region"
   ],
   "cell_type": "markdown",
   "metadata": {}
  },
  {
   "cell_type": "code",
   "execution_count": null,
   "metadata": {},
   "outputs": [],
   "source": [
    "df.groupby('Region')['Sales','Profit'].agg(['sum','mean'])"
   ]
  },
  {
   "cell_type": "code",
   "execution_count": null,
   "metadata": {},
   "outputs": [],
   "source": [
    "fig, (ax1,ax2) = plt.subplots(1,2,figsize=(14,14))\n",
    "\n",
    "df20 = df.groupby('Region')['Sales'].sum()\n",
    "labels = df20.index\n",
    "values = df20\n",
    "ax1.pie(values,labels = labels,autopct = '%.2f%%',explode=[0,0,0.25,0])\n",
    "ax1.title.set_text('Sales')\n",
    "\n",
    "df21 = df.groupby('Region')['Profit'].sum()\n",
    "labels = df21.index\n",
    "values = df21\n",
    "ax2.pie(df21,labels=df21.index,autopct = '%.2f%%',explode=[0.25,0,0,0])\n",
    "ax2.title.set_text('Profit')\n",
    "\n",
    "plt.legend(title = \"Region\",loc=4)\n",
    "#                                       OR\n",
    "#df.groupby('Region')['Sales','Profit'].mean().plot.pie(subplots=True,autopct='%0.2f%%',figsize=(15,10),explode=[0.25,0,0,0])"
   ]
  },
  {
   "source": [
    "####    Conclusion:\n",
    "\n",
    "    Sales :-\n",
    "        Least   South   17.05%\n",
    "        Most    West    31.58%\n",
    "    Profit :-\n",
    "        Least   Central 13.86%\n",
    "        Most    West    37.86%\n",
    "\n"
   ],
   "cell_type": "markdown",
   "metadata": {}
  },
  {
   "source": [
    "##  3. Ship Mode"
   ],
   "cell_type": "markdown",
   "metadata": {}
  },
  {
   "cell_type": "code",
   "execution_count": null,
   "metadata": {},
   "outputs": [],
   "source": [
    "df.groupby('Ship Mode')['Sales','Profit'].agg(['sum','mean'])"
   ]
  },
  {
   "cell_type": "code",
   "execution_count": null,
   "metadata": {},
   "outputs": [],
   "source": [
    "fig, (ax1,ax2) = plt.subplots(1,2,figsize=(14,14))\n",
    "\n",
    "df20 = df.groupby('Ship Mode')['Sales'].sum()\n",
    "labels = df20.index\n",
    "values = df20\n",
    "ax1.pie(values,labels = labels,autopct = '%.2f%%',explode=[0,0.25,0,0])\n",
    "ax1.title.set_text('Sales')\n",
    "\n",
    "df21 = df.groupby('Ship Mode')['Profit'].sum()\n",
    "labels = df21.index\n",
    "values = df21\n",
    "ax2.pie(df21,labels=df21.index,autopct = '%.2f%%',explode=[0,0.25,0,0])\n",
    "ax2.title.set_text('Profit')\n",
    "\n",
    "plt.legend(title = \"Ship Mode\",loc=4)\n",
    "#                                       OR\n",
    "#df.groupby('Ship Mode')['Sales','Profit'].mean().plot.pie(subplots=True,autopct='%0.2f%%',figsize=(15,10),explode=[0.25,0,0,0])"
   ]
  },
  {
   "source": [
    "####    Conclusion:\n",
    "\n",
    "        Sales :-\n",
    "            Least   Same Day            5.59%\n",
    "            Most    Standard Class      59.12%\n",
    "        Profit :-\n",
    "            Least   Same Day            5.55%\n",
    "            Most    Standard Class      57.29%\n",
    "\n"
   ],
   "cell_type": "markdown",
   "metadata": {}
  },
  {
   "cell_type": "code",
   "execution_count": null,
   "metadata": {},
   "outputs": [],
   "source": [
    "df.groupby('Ship Mode')['Sales','Profit'].sum().plot.bar(subplots=True,figsize=(10,10))\n",
    "plt.xticks(rotation=0)"
   ]
  },
  {
   "source": [
    "##  4. State"
   ],
   "cell_type": "markdown",
   "metadata": {}
  },
  {
   "cell_type": "code",
   "execution_count": null,
   "metadata": {},
   "outputs": [],
   "source": [
    "df.groupby('State')['Sales','Profit'].agg(['sum','mean'])"
   ]
  },
  {
   "cell_type": "code",
   "execution_count": null,
   "metadata": {},
   "outputs": [],
   "source": [
    "plt.figure(figsize=(25,8))\n",
    "sns.barplot(data = df,x='State',y='Sales',ci=None,estimator=sum)\n",
    "plt.title('State wise Sales')\n",
    "plt.xticks(rotation=45)"
   ]
  },
  {
   "source": [
    "### Conclusion:\n",
    "####    Sales :-\n",
    "        Least   North Dakota    919.9100    \n",
    "        Most    California      457687.6315"
   ],
   "cell_type": "markdown",
   "metadata": {}
  },
  {
   "cell_type": "code",
   "execution_count": null,
   "metadata": {},
   "outputs": [],
   "source": [
    "plt.figure(figsize=(25,8))\n",
    "sns.barplot(data = df,x='State',y='Profit',ci=None,estimator=sum)\n",
    "plt.title('State wise Profit')\n",
    "plt.xticks(rotation=45)"
   ]
  },
  {
   "source": [
    "### Conclusion:\n",
    "####    Profit :-\n",
    "        Least   Texas           -25729.3563\n",
    "        Most    California      76381.3871"
   ],
   "cell_type": "markdown",
   "metadata": {}
  },
  {
   "source": [
    "#   Multi-Variate Analysis"
   ],
   "cell_type": "markdown",
   "metadata": {}
  },
  {
   "source": [
    "##   1. with respect to segment :\n",
    "###   Sales , Discount , Segment\n",
    "####   Pivot table"
   ],
   "cell_type": "markdown",
   "metadata": {}
  },
  {
   "cell_type": "code",
   "execution_count": null,
   "metadata": {},
   "outputs": [],
   "source": [
    "df.pivot_table(values='Sales',index='Segment',columns='Discount',aggfunc='mean')"
   ]
  },
  {
   "source": [
    "#### Plot"
   ],
   "cell_type": "markdown",
   "metadata": {}
  },
  {
   "cell_type": "code",
   "execution_count": null,
   "metadata": {},
   "outputs": [],
   "source": [
    "sns.relplot(data=df,x='Discount',y='Sales',hue='Segment',kind='line',ci=None)"
   ]
  },
  {
   "source": [
    "####    Conclusion:\n",
    "    Sales are HIGH in Home Office when Discount is 0.4 to 0.6\n",
    "    Sales are LOW in all segments when Discount is 0.6 to 0.8"
   ],
   "cell_type": "markdown",
   "metadata": {}
  },
  {
   "source": [
    "###   Profit , Discount , Segment\n",
    "####   Pivot table"
   ],
   "cell_type": "markdown",
   "metadata": {}
  },
  {
   "cell_type": "code",
   "execution_count": null,
   "metadata": {},
   "outputs": [],
   "source": [
    "df.pivot_table(values='Sales',index='Segment',columns='Discount',        aggfunc='mean')"
   ]
  },
  {
   "source": [
    "#### Plot"
   ],
   "cell_type": "markdown",
   "metadata": {}
  },
  {
   "cell_type": "code",
   "execution_count": null,
   "metadata": {},
   "outputs": [],
   "source": [
    "sns.relplot(data=df,x='Discount',y='Profit',hue='Segment',kind='line',ci=None)"
   ]
  },
  {
   "source": [
    "####    Conclusions:\n",
    "        Profit are HIGH in all segments when Discount is 0.1\n",
    "        Profit are LOW in Corporate, Home Office when Discount is 0.5"
   ],
   "cell_type": "markdown",
   "metadata": {}
  },
  {
   "source": [
    "###   Sales , Profit , Segment\n",
    "####   Pivot table"
   ],
   "cell_type": "markdown",
   "metadata": {}
  },
  {
   "cell_type": "code",
   "execution_count": null,
   "metadata": {},
   "outputs": [],
   "source": [
    "df.pivot_table(values='Profit',index='Sales',columns='Segment',aggfunc='mean')"
   ]
  },
  {
   "source": [
    "#### Plot"
   ],
   "cell_type": "markdown",
   "metadata": {}
  },
  {
   "cell_type": "code",
   "execution_count": null,
   "metadata": {},
   "outputs": [],
   "source": [
    "sns.relplot(data=df,x='Sales',y='Profit',hue='Segment',kind='scatter',ci=None)"
   ]
  },
  {
   "source": [
    "####    Conclusion:\n",
    "        Least Profit in Consumer Segment when Sales are in between 4,000 to 5,000\n",
    "        Most Profit in Corpoorate Segment when Sales are above 8,000"
   ],
   "cell_type": "markdown",
   "metadata": {}
  },
  {
   "source": [
    "##   2. with respect to category\n",
    "###   Sales , Discount , Segment\n",
    "####   Pivot table"
   ],
   "cell_type": "markdown",
   "metadata": {}
  },
  {
   "cell_type": "code",
   "execution_count": null,
   "metadata": {},
   "outputs": [],
   "source": [
    "df.pivot_table(values='Sales',index='Category',columns='Discount',aggfunc='mean')"
   ]
  },
  {
   "source": [
    "####    Plot"
   ],
   "cell_type": "markdown",
   "metadata": {}
  },
  {
   "cell_type": "code",
   "execution_count": null,
   "metadata": {},
   "outputs": [],
   "source": [
    "sns.relplot(data=df,x='Discount',y='Sales',hue='Category',kind='line',ci=None)"
   ]
  },
  {
   "source": [
    "####    Conclusion:\n",
    "\n",
    "        Sales are HIGH in Technology Category where Discount is in between 0.5 & 0.6\n",
    "        Sales are LOW in Furniture Category where Discount ia at 0.6"
   ],
   "cell_type": "markdown",
   "metadata": {}
  },
  {
   "source": [
    "###   Profit , Discount , Segment\n",
    "####   Pivot table"
   ],
   "cell_type": "markdown",
   "metadata": {}
  },
  {
   "cell_type": "code",
   "execution_count": null,
   "metadata": {},
   "outputs": [],
   "source": [
    "df.pivot_table(values='Profit',index='Category',columns='Discount',aggfunc='mean')"
   ]
  },
  {
   "source": [
    "#### Plot"
   ],
   "cell_type": "markdown",
   "metadata": {}
  },
  {
   "cell_type": "code",
   "execution_count": null,
   "metadata": {},
   "outputs": [],
   "source": [
    "sns.relplot(data=df,x='Discount',y='Profit',hue='Category',kind='line',ci=None)"
   ]
  },
  {
   "source": [
    "####    Conclusion:\n",
    "            Highest Profit at Discount 0.1 in Technology Category\n",
    "            Lowest Profit at Discount 0.7 in Technology Category"
   ],
   "cell_type": "markdown",
   "metadata": {}
  },
  {
   "source": [
    "###   Sales , Profit , Segment\n",
    "####   Pivot table"
   ],
   "cell_type": "markdown",
   "metadata": {}
  },
  {
   "cell_type": "code",
   "execution_count": null,
   "metadata": {},
   "outputs": [],
   "source": [
    "df.pivot_table(values='Profit',index='Sales',columns='Category',aggfunc='mean')"
   ]
  },
  {
   "source": [
    "#### Plot"
   ],
   "cell_type": "markdown",
   "metadata": {}
  },
  {
   "cell_type": "code",
   "execution_count": null,
   "metadata": {},
   "outputs": [],
   "source": [
    "sns.relplot(data=df,x='Sales',y='Profit',hue='Category',kind='scatter',ci=None)"
   ]
  },
  {
   "source": [
    "##  3. Sales, Profit, Discount"
   ],
   "cell_type": "markdown",
   "metadata": {}
  },
  {
   "cell_type": "code",
   "execution_count": null,
   "metadata": {},
   "outputs": [],
   "source": [
    "plt.figure(figsize=(15,8))\n",
    "sns.scatterplot(df['Sales'],df['Profit'],hue=df['Discount'])\n",
    "plt.axhline(0,0,color='r')\n",
    "plt.show()"
   ]
  },
  {
   "source": [
    "####    Conclusion:\n",
    "        When 0.75 Discount is given Sales dropped to less than 5,000 causing loss of 6,000             \n",
    "        When least Discount is given Sales remained moderate causing profit of more than 8,000"
   ],
   "cell_type": "markdown",
   "metadata": {}
  },
  {
   "source": [
    "#   SUMMARY\n",
    "###   1.\tNo null values present\n",
    "###   2.\t7 duplicates values found\n",
    "###   3.\tDiscounts & profits are negatively correlated\n",
    "###   4.\tMost profitable category technology\n",
    "###   5.\tMost profitable ship mode first class\n",
    "###   6.\tMost profitable segment home office\n",
    "###   7.\tMost profitable state : Vermont\n",
    "###   8.\tLeast profitable state : Ohio\n",
    "###   9.\tBiggest contributor in sales : California\n",
    "###   10.\tLowest contributor sales : North Dakota\n",
    "###   11.\tMost profitable city : Jamestown\n",
    "###   12.\tLeast profitable city : Bethlehem\n",
    "###   13.\tBiggest contributor in sales : New York City\n",
    "###   14.\tLowest contributor sales : Abilene\n",
    "###   15.\tBiggest contributor in profit : Copiers\n",
    "###   16.\tLowest contributor profit : Tables\n",
    "###   17.\tBiggest contributor in sales : Phones\n",
    "###   18.\tLowest contributor sales : Fastners"
   ],
   "cell_type": "markdown",
   "metadata": {}
  },
  {
   "source": [
    "#                                                       THANK YOU !!!"
   ],
   "cell_type": "markdown",
   "metadata": {}
  }
 ]
}